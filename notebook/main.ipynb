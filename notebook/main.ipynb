{
 "cells": [
  {
   "cell_type": "code",
   "execution_count": 1,
   "metadata": {},
   "outputs": [],
   "source": [
    "import pandas as pd\n",
    "import numpy as np"
   ]
  },
  {
   "cell_type": "code",
   "execution_count": 2,
   "metadata": {},
   "outputs": [
    {
     "data": {
      "text/plain": [
       "PosixPath('.')"
      ]
     },
     "execution_count": 2,
     "metadata": {},
     "output_type": "execute_result"
    }
   ],
   "source": [
    "import pathlib\n",
    "pathlib.Path()"
   ]
  },
  {
   "cell_type": "code",
   "execution_count": 3,
   "metadata": {},
   "outputs": [
    {
     "data": {
      "text/plain": [
       "PosixPath('/home/santi/personalProjects/EDA_Pereira_suicide/eda_pereira_info/notebook')"
      ]
     },
     "execution_count": 3,
     "metadata": {},
     "output_type": "execute_result"
    }
   ],
   "source": [
    "current_path = pathlib.Path().resolve()\n",
    "current_path"
   ]
  },
  {
   "cell_type": "code",
   "execution_count": 4,
   "metadata": {},
   "outputs": [
    {
     "data": {
      "text/html": [
       "<div>\n",
       "<style scoped>\n",
       "    .dataframe tbody tr th:only-of-type {\n",
       "        vertical-align: middle;\n",
       "    }\n",
       "\n",
       "    .dataframe tbody tr th {\n",
       "        vertical-align: top;\n",
       "    }\n",
       "\n",
       "    .dataframe thead th {\n",
       "        text-align: right;\n",
       "    }\n",
       "</style>\n",
       "<table border=\"1\" class=\"dataframe\">\n",
       "  <thead>\n",
       "    <tr style=\"text-align: right;\">\n",
       "      <th></th>\n",
       "      <th>CODIGO EVENTO</th>\n",
       "      <th>SEMANA</th>\n",
       "      <th>AÑO</th>\n",
       "      <th>EDAD</th>\n",
       "      <th>UNIDAD MEDIDA EDAD</th>\n",
       "      <th>GENERO</th>\n",
       "      <th>AREA</th>\n",
       "      <th>TIPO SEGURIDAD SOCIAL</th>\n",
       "      <th>NOMBRE EVENTO</th>\n",
       "    </tr>\n",
       "  </thead>\n",
       "  <tbody>\n",
       "    <tr>\n",
       "      <th>0</th>\n",
       "      <td>356</td>\n",
       "      <td>1</td>\n",
       "      <td>2016</td>\n",
       "      <td>31</td>\n",
       "      <td>1</td>\n",
       "      <td>M</td>\n",
       "      <td>CABECERA MUNICIPAL</td>\n",
       "      <td>CONTRIBUTIVO</td>\n",
       "      <td>INTENTO DE SUICIDIO</td>\n",
       "    </tr>\n",
       "    <tr>\n",
       "      <th>1</th>\n",
       "      <td>356</td>\n",
       "      <td>2</td>\n",
       "      <td>2016</td>\n",
       "      <td>27</td>\n",
       "      <td>1</td>\n",
       "      <td>F</td>\n",
       "      <td>CABECERA MUNICIPAL</td>\n",
       "      <td>CONTRIBUTIVO</td>\n",
       "      <td>INTENTO DE SUICIDIO</td>\n",
       "    </tr>\n",
       "    <tr>\n",
       "      <th>2</th>\n",
       "      <td>356</td>\n",
       "      <td>3</td>\n",
       "      <td>2016</td>\n",
       "      <td>17</td>\n",
       "      <td>1</td>\n",
       "      <td>M</td>\n",
       "      <td>CABECERA MUNICIPAL</td>\n",
       "      <td>SUBSIDIADO</td>\n",
       "      <td>INTENTO DE SUICIDIO</td>\n",
       "    </tr>\n",
       "    <tr>\n",
       "      <th>3</th>\n",
       "      <td>356</td>\n",
       "      <td>6</td>\n",
       "      <td>2016</td>\n",
       "      <td>22</td>\n",
       "      <td>1</td>\n",
       "      <td>F</td>\n",
       "      <td>CABECERA MUNICIPAL</td>\n",
       "      <td>NO ASEGURADO</td>\n",
       "      <td>INTENTO DE SUICIDIO</td>\n",
       "    </tr>\n",
       "    <tr>\n",
       "      <th>4</th>\n",
       "      <td>356</td>\n",
       "      <td>6</td>\n",
       "      <td>2016</td>\n",
       "      <td>14</td>\n",
       "      <td>1</td>\n",
       "      <td>F</td>\n",
       "      <td>CABECERA MUNICIPAL</td>\n",
       "      <td>SUBSIDIADO</td>\n",
       "      <td>INTENTO DE SUICIDIO</td>\n",
       "    </tr>\n",
       "  </tbody>\n",
       "</table>\n",
       "</div>"
      ],
      "text/plain": [
       "   CODIGO EVENTO  SEMANA   AÑO  EDAD  UNIDAD MEDIDA EDAD GENERO  \\\n",
       "0            356       1  2016    31                   1      M   \n",
       "1            356       2  2016    27                   1      F   \n",
       "2            356       3  2016    17                   1      M   \n",
       "3            356       6  2016    22                   1      F   \n",
       "4            356       6  2016    14                   1      F   \n",
       "\n",
       "                 AREA TIPO SEGURIDAD SOCIAL        NOMBRE EVENTO  \n",
       "0  CABECERA MUNICIPAL          CONTRIBUTIVO  INTENTO DE SUICIDIO  \n",
       "1  CABECERA MUNICIPAL          CONTRIBUTIVO  INTENTO DE SUICIDIO  \n",
       "2  CABECERA MUNICIPAL            SUBSIDIADO  INTENTO DE SUICIDIO  \n",
       "3  CABECERA MUNICIPAL          NO ASEGURADO  INTENTO DE SUICIDIO  \n",
       "4  CABECERA MUNICIPAL            SUBSIDIADO  INTENTO DE SUICIDIO  "
      ]
     },
     "execution_count": 4,
     "metadata": {},
     "output_type": "execute_result"
    }
   ],
   "source": [
    "df = pd.read_csv(current_path.parent.joinpath(\"data\", \"Casos_intento_suicida.csv\"))\n",
    "df.head(5)"
   ]
  },
  {
   "cell_type": "code",
   "execution_count": 5,
   "metadata": {},
   "outputs": [
    {
     "data": {
      "text/plain": [
       "(2020, 9)"
      ]
     },
     "execution_count": 5,
     "metadata": {},
     "output_type": "execute_result"
    }
   ],
   "source": [
    "df.shape"
   ]
  },
  {
   "cell_type": "code",
   "execution_count": 6,
   "metadata": {},
   "outputs": [
    {
     "name": "stdout",
     "output_type": "stream",
     "text": [
      "<class 'pandas.core.frame.DataFrame'>\n",
      "RangeIndex: 2020 entries, 0 to 2019\n",
      "Data columns (total 9 columns):\n",
      " #   Column                 Non-Null Count  Dtype \n",
      "---  ------                 --------------  ----- \n",
      " 0   CODIGO EVENTO          2020 non-null   int64 \n",
      " 1   SEMANA                 2020 non-null   int64 \n",
      " 2   AÑO                    2020 non-null   int64 \n",
      " 3   EDAD                   2020 non-null   int64 \n",
      " 4   UNIDAD MEDIDA EDAD     2020 non-null   int64 \n",
      " 5   GENERO                 2020 non-null   object\n",
      " 6   AREA                   2020 non-null   object\n",
      " 7   TIPO SEGURIDAD SOCIAL  2020 non-null   object\n",
      " 8   NOMBRE EVENTO          2020 non-null   object\n",
      "dtypes: int64(5), object(4)\n",
      "memory usage: 142.2+ KB\n"
     ]
    }
   ],
   "source": [
    "df.info()"
   ]
  },
  {
   "cell_type": "code",
   "execution_count": 7,
   "metadata": {},
   "outputs": [
    {
     "data": {
      "text/html": [
       "<div>\n",
       "<style scoped>\n",
       "    .dataframe tbody tr th:only-of-type {\n",
       "        vertical-align: middle;\n",
       "    }\n",
       "\n",
       "    .dataframe tbody tr th {\n",
       "        vertical-align: top;\n",
       "    }\n",
       "\n",
       "    .dataframe thead th {\n",
       "        text-align: right;\n",
       "    }\n",
       "</style>\n",
       "<table border=\"1\" class=\"dataframe\">\n",
       "  <thead>\n",
       "    <tr style=\"text-align: right;\">\n",
       "      <th></th>\n",
       "      <th>CODIGO EVENTO</th>\n",
       "      <th>SEMANA</th>\n",
       "      <th>AÑO</th>\n",
       "      <th>EDAD</th>\n",
       "      <th>UNIDAD MEDIDA EDAD</th>\n",
       "    </tr>\n",
       "  </thead>\n",
       "  <tbody>\n",
       "    <tr>\n",
       "      <th>count</th>\n",
       "      <td>2020.0</td>\n",
       "      <td>2020.000000</td>\n",
       "      <td>2020.000000</td>\n",
       "      <td>2020.000000</td>\n",
       "      <td>2020.0</td>\n",
       "    </tr>\n",
       "    <tr>\n",
       "      <th>mean</th>\n",
       "      <td>356.0</td>\n",
       "      <td>26.646040</td>\n",
       "      <td>2018.043069</td>\n",
       "      <td>25.095050</td>\n",
       "      <td>1.0</td>\n",
       "    </tr>\n",
       "    <tr>\n",
       "      <th>std</th>\n",
       "      <td>0.0</td>\n",
       "      <td>14.558654</td>\n",
       "      <td>1.061565</td>\n",
       "      <td>13.005233</td>\n",
       "      <td>0.0</td>\n",
       "    </tr>\n",
       "    <tr>\n",
       "      <th>min</th>\n",
       "      <td>356.0</td>\n",
       "      <td>1.000000</td>\n",
       "      <td>2016.000000</td>\n",
       "      <td>6.000000</td>\n",
       "      <td>1.0</td>\n",
       "    </tr>\n",
       "    <tr>\n",
       "      <th>25%</th>\n",
       "      <td>356.0</td>\n",
       "      <td>14.000000</td>\n",
       "      <td>2017.000000</td>\n",
       "      <td>16.000000</td>\n",
       "      <td>1.0</td>\n",
       "    </tr>\n",
       "    <tr>\n",
       "      <th>50%</th>\n",
       "      <td>356.0</td>\n",
       "      <td>26.000000</td>\n",
       "      <td>2018.000000</td>\n",
       "      <td>21.000000</td>\n",
       "      <td>1.0</td>\n",
       "    </tr>\n",
       "    <tr>\n",
       "      <th>75%</th>\n",
       "      <td>356.0</td>\n",
       "      <td>39.000000</td>\n",
       "      <td>2019.000000</td>\n",
       "      <td>31.000000</td>\n",
       "      <td>1.0</td>\n",
       "    </tr>\n",
       "    <tr>\n",
       "      <th>max</th>\n",
       "      <td>356.0</td>\n",
       "      <td>52.000000</td>\n",
       "      <td>2019.000000</td>\n",
       "      <td>89.000000</td>\n",
       "      <td>1.0</td>\n",
       "    </tr>\n",
       "  </tbody>\n",
       "</table>\n",
       "</div>"
      ],
      "text/plain": [
       "       CODIGO EVENTO       SEMANA          AÑO         EDAD  \\\n",
       "count         2020.0  2020.000000  2020.000000  2020.000000   \n",
       "mean           356.0    26.646040  2018.043069    25.095050   \n",
       "std              0.0    14.558654     1.061565    13.005233   \n",
       "min            356.0     1.000000  2016.000000     6.000000   \n",
       "25%            356.0    14.000000  2017.000000    16.000000   \n",
       "50%            356.0    26.000000  2018.000000    21.000000   \n",
       "75%            356.0    39.000000  2019.000000    31.000000   \n",
       "max            356.0    52.000000  2019.000000    89.000000   \n",
       "\n",
       "       UNIDAD MEDIDA EDAD  \n",
       "count              2020.0  \n",
       "mean                  1.0  \n",
       "std                   0.0  \n",
       "min                   1.0  \n",
       "25%                   1.0  \n",
       "50%                   1.0  \n",
       "75%                   1.0  \n",
       "max                   1.0  "
      ]
     },
     "execution_count": 7,
     "metadata": {},
     "output_type": "execute_result"
    }
   ],
   "source": [
    "df.describe()"
   ]
  },
  {
   "cell_type": "code",
   "execution_count": 8,
   "metadata": {},
   "outputs": [
    {
     "data": {
      "text/html": [
       "<div>\n",
       "<style scoped>\n",
       "    .dataframe tbody tr th:only-of-type {\n",
       "        vertical-align: middle;\n",
       "    }\n",
       "\n",
       "    .dataframe tbody tr th {\n",
       "        vertical-align: top;\n",
       "    }\n",
       "\n",
       "    .dataframe thead th {\n",
       "        text-align: right;\n",
       "    }\n",
       "</style>\n",
       "<table border=\"1\" class=\"dataframe\">\n",
       "  <thead>\n",
       "    <tr style=\"text-align: right;\">\n",
       "      <th></th>\n",
       "      <th>AÑO</th>\n",
       "      <th>EDAD</th>\n",
       "      <th>GENERO</th>\n",
       "    </tr>\n",
       "  </thead>\n",
       "  <tbody>\n",
       "    <tr>\n",
       "      <th>0</th>\n",
       "      <td>2016</td>\n",
       "      <td>31</td>\n",
       "      <td>M</td>\n",
       "    </tr>\n",
       "    <tr>\n",
       "      <th>1</th>\n",
       "      <td>2016</td>\n",
       "      <td>27</td>\n",
       "      <td>F</td>\n",
       "    </tr>\n",
       "    <tr>\n",
       "      <th>2</th>\n",
       "      <td>2016</td>\n",
       "      <td>17</td>\n",
       "      <td>M</td>\n",
       "    </tr>\n",
       "    <tr>\n",
       "      <th>3</th>\n",
       "      <td>2016</td>\n",
       "      <td>22</td>\n",
       "      <td>F</td>\n",
       "    </tr>\n",
       "    <tr>\n",
       "      <th>4</th>\n",
       "      <td>2016</td>\n",
       "      <td>14</td>\n",
       "      <td>F</td>\n",
       "    </tr>\n",
       "    <tr>\n",
       "      <th>...</th>\n",
       "      <td>...</td>\n",
       "      <td>...</td>\n",
       "      <td>...</td>\n",
       "    </tr>\n",
       "    <tr>\n",
       "      <th>2015</th>\n",
       "      <td>2019</td>\n",
       "      <td>75</td>\n",
       "      <td>M</td>\n",
       "    </tr>\n",
       "    <tr>\n",
       "      <th>2016</th>\n",
       "      <td>2019</td>\n",
       "      <td>14</td>\n",
       "      <td>M</td>\n",
       "    </tr>\n",
       "    <tr>\n",
       "      <th>2017</th>\n",
       "      <td>2019</td>\n",
       "      <td>13</td>\n",
       "      <td>F</td>\n",
       "    </tr>\n",
       "    <tr>\n",
       "      <th>2018</th>\n",
       "      <td>2019</td>\n",
       "      <td>17</td>\n",
       "      <td>F</td>\n",
       "    </tr>\n",
       "    <tr>\n",
       "      <th>2019</th>\n",
       "      <td>2019</td>\n",
       "      <td>17</td>\n",
       "      <td>F</td>\n",
       "    </tr>\n",
       "  </tbody>\n",
       "</table>\n",
       "<p>2020 rows × 3 columns</p>\n",
       "</div>"
      ],
      "text/plain": [
       "       AÑO  EDAD GENERO\n",
       "0     2016    31      M\n",
       "1     2016    27      F\n",
       "2     2016    17      M\n",
       "3     2016    22      F\n",
       "4     2016    14      F\n",
       "...    ...   ...    ...\n",
       "2015  2019    75      M\n",
       "2016  2019    14      M\n",
       "2017  2019    13      F\n",
       "2018  2019    17      F\n",
       "2019  2019    17      F\n",
       "\n",
       "[2020 rows x 3 columns]"
      ]
     },
     "execution_count": 8,
     "metadata": {},
     "output_type": "execute_result"
    }
   ],
   "source": [
    "#variables para trabajar\n",
    "\n",
    "df = df[[\"AÑO\", \"EDAD\", \"GENERO\"]]\n",
    "df"
   ]
  },
  {
   "cell_type": "markdown",
   "metadata": {},
   "source": [
    "##Análisis unidimensional de las variables"
   ]
  },
  {
   "cell_type": "code",
   "execution_count": 9,
   "metadata": {},
   "outputs": [
    {
     "data": {
      "text/plain": [
       "array([2016, 2017, 2018, 2019])"
      ]
     },
     "execution_count": 9,
     "metadata": {},
     "output_type": "execute_result"
    }
   ],
   "source": [
    "#validamos los años de los registros de los datos\n",
    "df[\"AÑO\"].unique()"
   ]
  },
  {
   "cell_type": "code",
   "execution_count": 10,
   "metadata": {},
   "outputs": [
    {
     "data": {
      "text/plain": [
       "count    2020.000000\n",
       "mean       25.095050\n",
       "std        13.005233\n",
       "min         6.000000\n",
       "25%        16.000000\n",
       "50%        21.000000\n",
       "75%        31.000000\n",
       "max        89.000000\n",
       "Name: EDAD, dtype: float64"
      ]
     },
     "execution_count": 10,
     "metadata": {},
     "output_type": "execute_result"
    }
   ],
   "source": [
    "#hubo un caso de intento de suicidio de una persona con 6 años de edad, y almenos una con 89 años de edad\n",
    "df[\"EDAD\"].describe()"
   ]
  },
  {
   "cell_type": "code",
   "execution_count": 11,
   "metadata": {},
   "outputs": [
    {
     "data": {
      "text/plain": [
       "<AxesSubplot:>"
      ]
     },
     "execution_count": 11,
     "metadata": {},
     "output_type": "execute_result"
    },
    {
     "data": {
      "image/png": "[encoded data removed]",
      "text/plain": [
       "<Figure size 432x288 with 1 Axes>"
      ]
     },
     "metadata": {
      "needs_background": "light"
     },
     "output_type": "display_data"
    }
   ],
   "source": [
    "#la mayor cantidad de intento de suicidios están en las personas con 20 años\n",
    "df[\"EDAD\"].hist()"
   ]
  },
  {
   "cell_type": "code",
   "execution_count": 12,
   "metadata": {},
   "outputs": [
    {
     "data": {
      "text/plain": [
       "<AxesSubplot:>"
      ]
     },
     "execution_count": 12,
     "metadata": {},
     "output_type": "execute_result"
    },
    {
     "data": {
      "image/png": "[encoded data removed]",
      "text/plain": [
       "<Figure size 432x288 with 1 Axes>"
      ]
     },
     "metadata": {
      "needs_background": "light"
     },
     "output_type": "display_data"
    }
   ],
   "source": [
    "df[\"AÑO\"].hist()"
   ]
  },
  {
   "cell_type": "code",
   "execution_count": 13,
   "metadata": {},
   "outputs": [
    {
     "data": {
      "text/plain": [
       "<AxesSubplot:>"
      ]
     },
     "execution_count": 13,
     "metadata": {},
     "output_type": "execute_result"
    },
    {
     "data": {
      "image/png": "[encoded data removed]",
      "text/plain": [
       "<Figure size 432x288 with 1 Axes>"
      ]
     },
     "metadata": {
      "needs_background": "light"
     },
     "output_type": "display_data"
    }
   ],
   "source": [
    "df[\"GENERO\"].hist()"
   ]
  },
  {
   "cell_type": "markdown",
   "metadata": {},
   "source": [
    "## Análisis multidimensional"
   ]
  },
  {
   "cell_type": "code",
   "execution_count": 14,
   "metadata": {},
   "outputs": [],
   "source": [
    "import matplotlib.pylab as plt\n",
    "import seaborn as sns"
   ]
  },
  {
   "cell_type": "code",
   "execution_count": 15,
   "metadata": {},
   "outputs": [
    {
     "data": {
      "text/html": [
       "<div>\n",
       "<style scoped>\n",
       "    .dataframe tbody tr th:only-of-type {\n",
       "        vertical-align: middle;\n",
       "    }\n",
       "\n",
       "    .dataframe tbody tr th {\n",
       "        vertical-align: top;\n",
       "    }\n",
       "\n",
       "    .dataframe thead th {\n",
       "        text-align: right;\n",
       "    }\n",
       "</style>\n",
       "<table border=\"1\" class=\"dataframe\">\n",
       "  <thead>\n",
       "    <tr style=\"text-align: right;\">\n",
       "      <th></th>\n",
       "      <th>AÑO</th>\n",
       "      <th>EDAD</th>\n",
       "      <th>GENERO</th>\n",
       "      <th>MUJER</th>\n",
       "      <th>HOMBRE</th>\n",
       "    </tr>\n",
       "  </thead>\n",
       "  <tbody>\n",
       "    <tr>\n",
       "      <th>0</th>\n",
       "      <td>2016</td>\n",
       "      <td>31</td>\n",
       "      <td>M</td>\n",
       "      <td>0</td>\n",
       "      <td>1</td>\n",
       "    </tr>\n",
       "    <tr>\n",
       "      <th>1</th>\n",
       "      <td>2016</td>\n",
       "      <td>27</td>\n",
       "      <td>F</td>\n",
       "      <td>1</td>\n",
       "      <td>0</td>\n",
       "    </tr>\n",
       "    <tr>\n",
       "      <th>2</th>\n",
       "      <td>2016</td>\n",
       "      <td>17</td>\n",
       "      <td>M</td>\n",
       "      <td>0</td>\n",
       "      <td>1</td>\n",
       "    </tr>\n",
       "    <tr>\n",
       "      <th>3</th>\n",
       "      <td>2016</td>\n",
       "      <td>22</td>\n",
       "      <td>F</td>\n",
       "      <td>1</td>\n",
       "      <td>0</td>\n",
       "    </tr>\n",
       "    <tr>\n",
       "      <th>4</th>\n",
       "      <td>2016</td>\n",
       "      <td>14</td>\n",
       "      <td>F</td>\n",
       "      <td>1</td>\n",
       "      <td>0</td>\n",
       "    </tr>\n",
       "    <tr>\n",
       "      <th>...</th>\n",
       "      <td>...</td>\n",
       "      <td>...</td>\n",
       "      <td>...</td>\n",
       "      <td>...</td>\n",
       "      <td>...</td>\n",
       "    </tr>\n",
       "    <tr>\n",
       "      <th>2015</th>\n",
       "      <td>2019</td>\n",
       "      <td>75</td>\n",
       "      <td>M</td>\n",
       "      <td>0</td>\n",
       "      <td>1</td>\n",
       "    </tr>\n",
       "    <tr>\n",
       "      <th>2016</th>\n",
       "      <td>2019</td>\n",
       "      <td>14</td>\n",
       "      <td>M</td>\n",
       "      <td>0</td>\n",
       "      <td>1</td>\n",
       "    </tr>\n",
       "    <tr>\n",
       "      <th>2017</th>\n",
       "      <td>2019</td>\n",
       "      <td>13</td>\n",
       "      <td>F</td>\n",
       "      <td>1</td>\n",
       "      <td>0</td>\n",
       "    </tr>\n",
       "    <tr>\n",
       "      <th>2018</th>\n",
       "      <td>2019</td>\n",
       "      <td>17</td>\n",
       "      <td>F</td>\n",
       "      <td>1</td>\n",
       "      <td>0</td>\n",
       "    </tr>\n",
       "    <tr>\n",
       "      <th>2019</th>\n",
       "      <td>2019</td>\n",
       "      <td>17</td>\n",
       "      <td>F</td>\n",
       "      <td>1</td>\n",
       "      <td>0</td>\n",
       "    </tr>\n",
       "  </tbody>\n",
       "</table>\n",
       "<p>2020 rows × 5 columns</p>\n",
       "</div>"
      ],
      "text/plain": [
       "       AÑO  EDAD GENERO  MUJER  HOMBRE\n",
       "0     2016    31      M      0       1\n",
       "1     2016    27      F      1       0\n",
       "2     2016    17      M      0       1\n",
       "3     2016    22      F      1       0\n",
       "4     2016    14      F      1       0\n",
       "...    ...   ...    ...    ...     ...\n",
       "2015  2019    75      M      0       1\n",
       "2016  2019    14      M      0       1\n",
       "2017  2019    13      F      1       0\n",
       "2018  2019    17      F      1       0\n",
       "2019  2019    17      F      1       0\n",
       "\n",
       "[2020 rows x 5 columns]"
      ]
     },
     "execution_count": 15,
     "metadata": {},
     "output_type": "execute_result"
    }
   ],
   "source": [
    "df[\"MUJER\"] = df.apply(lambda x: 1 if x[\"GENERO\"] == \"F\" else 0, axis = 1)\n",
    "df[\"HOMBRE\"] = df.apply(lambda x: 1 if x[\"GENERO\"] == \"M\" else 0, axis = 1)\n",
    "df"
   ]
  },
  {
   "cell_type": "code",
   "execution_count": 16,
   "metadata": {},
   "outputs": [
    {
     "data": {
      "text/plain": [
       "<AxesSubplot:>"
      ]
     },
     "execution_count": 16,
     "metadata": {},
     "output_type": "execute_result"
    },
    {
     "data": {
      "image/png": "[encoded data removed]",
      "text/plain": [
       "<Figure size 432x288 with 2 Axes>"
      ]
     },
     "metadata": {
      "needs_background": "light"
     },
     "output_type": "display_data"
    }
   ],
   "source": [
    "corr = df.corr()\n",
    "sns.heatmap(corr, annot=True)"
   ]
  },
  {
   "cell_type": "code",
   "execution_count": 17,
   "metadata": {},
   "outputs": [
    {
     "name": "stdout",
     "output_type": "stream",
     "text": [
      "porcentaje de mujeres con intentos de suicicio: 64.9009900990099\n",
      "porcentaje de hombres con intentos de suicicio: 35.0990099009901\n"
     ]
    }
   ],
   "source": [
    "print(\"porcentaje de mujeres con intentos de suicicio:\" ,df[\"MUJER\"].sum()*100 / 2020)\n",
    "print(\"porcentaje de hombres con intentos de suicicio:\" ,df[\"HOMBRE\"].sum()*100 / 2020)"
   ]
  },
  {
   "cell_type": "code",
   "execution_count": 18,
   "metadata": {},
   "outputs": [],
   "source": [
    "df.to_csv(current_path.parent.joinpath(\"data\", \"Casos_intento_suicida_depurado.csv\"))"
   ]
  }
 ],
 "metadata": {
  "kernelspec": {
   "display_name": "Python 3.9.12 ('eda_pereira_info')",
   "language": "python",
   "name": "python3"
  },
  "language_info": {
   "codemirror_mode": {
    "name": "ipython",
    "version": 3
   },
   "file_extension": ".py",
   "mimetype": "text/x-python",
   "name": "python",
   "nbconvert_exporter": "python",
   "pygments_lexer": "ipython3",
   "version": "3.9.12"
  },
  "orig_nbformat": 4,
  "vscode": {
   "interpreter": {
    "hash": "e134e7f72ed2db154e9935b875b18c0d287566bcef78fc000cfa2174fa2ed4f0"
   }
  }
 },
 "nbformat": 4,
 "nbformat_minor": 2
}
